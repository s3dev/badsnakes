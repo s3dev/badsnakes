{
 "cells": [
  {
   "cell_type": "markdown",
   "id": "6d541188-de46-44df-858a-65d090a18657",
   "metadata": {},
   "source": [
    "# Research\n",
    "This notebook is used to research functionality details and methods of implementation for the `badsnakes` project. \n",
    "\n",
    "Contents:\n",
    "- [Determining if a file is binary](#Determining-if-a-file-is-binary)\n",
    "- [Using `ast` to inspect code structure for keywords](#Using-ast-to-inspect-code-structure-for-keywords)\n",
    "- Using `dis` be to inspect bytecode for keywords\n",
    "- Detecting (very) long strings "
   ]
  },
  {
   "cell_type": "markdown",
   "id": "9352b3b9-e251-4600-b5ee-59bf9435172a",
   "metadata": {},
   "source": [
    "---\n",
    "## Determining if a file is binary\n",
    "This section contains the research involved (and associated links) for determining if a file is plain-text or binary.\n",
    "\n",
    "Links:\n",
    "- [How can I detect if a file is binary (non-text) in Python?](https://stackoverflow.com/a/7392391/6340496)\n",
    "- https://dnmtechs.com/detecting-binary-files-in-python-3/\n",
    "\n",
    "### Solution(s)\n",
    "The first linked answer (and its associated links) appears to be the most robust cross-platform solution, and the *fastest*.\n",
    "\n",
    "#### Timings\n",
    "- `isbinary_file`: On Linux, using a subprocess to call `file --mime-type` and parse the output.\n",
    "  - 2.49 ms ± 256 μs per loop (mean ± std. dev. of 7 runs, 100 loops each)\n",
    "- `isbinary_read`: Reading a chunk of the file and testing for remaining characters after printable characters are removed. \n",
    "  - 84.6 μs ± 2.27 μs per loop (mean ± std. dev. of 7 runs, 10,000 loops each)\n",
    "\n",
    "#### Chosen method\n",
    "The `isbinary_read` method was chosen as it's:\n",
    "1) Cross-platform, meaning two different implementations are not needed.\n",
    "2) ~29.5 times *faster* than the `isbinary_file` method.\n",
    "\n",
    "### Rejected:\n",
    "Using the builtin [`mimetype`](https://docs.python.org/3/library/mimetypes.html) library is **insufficient** as, according to the source code for [`guess_type`](https://github.com/python/cpython/blob/3.12/Lib/mimetypes.py#L103), the file is never opened and the type is \"guessed\" based on the file extension (and subsequent mappings) only."
   ]
  },
  {
   "cell_type": "code",
   "execution_count": 70,
   "id": "686f093a-f14d-4206-91f5-4baabd7db0f1",
   "metadata": {},
   "outputs": [],
   "source": [
    "import os\n",
    "import subprocess as sp\n",
    "from glob import glob"
   ]
  },
  {
   "cell_type": "code",
   "execution_count": 107,
   "id": "0dff352a-84d5-41ae-b985-1ed175507d48",
   "metadata": {},
   "outputs": [],
   "source": [
    "def isbinary_file(file: str):\n",
    "    \"\"\"Test for a binary file by calling the GNU 'file' utility.\"\"\"\n",
    "    with sp.Popen(['file', '-ib', os.path.realpath(file)], stdout=sp.PIPE) as proc:\n",
    "        stdout, _ = proc.communicate()\n",
    "    return stdout.decode().split('/', maxsplit=1)[0] != 'text'"
   ]
  },
  {
   "cell_type": "code",
   "execution_count": 100,
   "id": "f5a021cd-3037-49df-9edf-df307a867c1c",
   "metadata": {},
   "outputs": [],
   "source": [
    "textchars = set({7,8,9,10,12,13,27} | set(range(0x20, 0x100)) - {0x7f})\n",
    "\n",
    "def isbinary_read(file: str, chunksize: int=1024):\n",
    "    \"\"\"Reading a file chunk and remove printable ASCII characters.\"\"\"\n",
    "    if not os.path.isfile(file):\n",
    "        return True  # Non-files are considered binary.\n",
    "    with open(os.path.realpath(file), 'rb') as f:\n",
    "        return bool(set(f.read(chunksize)) - textchars)"
   ]
  },
  {
   "cell_type": "code",
   "execution_count": 92,
   "id": "cc1a4957-e4f9-4387-980e-7ff8d67f8f97",
   "metadata": {
    "scrolled": true
   },
   "outputs": [],
   "source": [
    "# Verify the output of the two methods agree. No output here is good!\n",
    "for f in glob('/usr/local/bin/*'):\n",
    "    tf = isbinary_file(f)\n",
    "    tr = isbinary_read(f, chunksize=1024)\n",
    "    if tf != tr:\n",
    "        print(f'{f}: file={tf}, read={tr}, equal={tf==tr}')"
   ]
  },
  {
   "cell_type": "code",
   "execution_count": 94,
   "id": "8666b004-7559-4c09-833a-004a1ae359fb",
   "metadata": {},
   "outputs": [
    {
     "name": "stdout",
     "output_type": "stream",
     "text": [
      "2.49 ms ± 259 μs per loop (mean ± std. dev. of 7 runs, 100 loops each)\n"
     ]
    }
   ],
   "source": [
    "%%timeit\n",
    "isbinary_file('/usr/local/bin/python3.10')"
   ]
  },
  {
   "cell_type": "code",
   "execution_count": 105,
   "id": "34d19541-b8d1-4e9c-b03a-54df0dafa03d",
   "metadata": {},
   "outputs": [
    {
     "name": "stdout",
     "output_type": "stream",
     "text": [
      "84.1 μs ± 2.75 μs per loop (mean ± std. dev. of 7 runs, 10,000 loops each)\n"
     ]
    }
   ],
   "source": [
    "%%timeit\n",
    "isbinary_read('/usr/local/bin/python3.10', 1024)"
   ]
  },
  {
   "cell_type": "code",
   "execution_count": 106,
   "id": "0bf2fb9c-f5e8-474f-b669-232d566482eb",
   "metadata": {},
   "outputs": [
    {
     "name": "stdout",
     "output_type": "stream",
     "text": [
      "The isbinary_read method is 29.4 times faster.\n"
     ]
    }
   ],
   "source": [
    "print(f'The isbinary_read method is {round(2.49 / (84.6 / 1000), 1)} times faster.')"
   ]
  },
  {
   "cell_type": "markdown",
   "id": "f87b978d-6128-467b-b788-7b77f9aaa6e8",
   "metadata": {},
   "source": [
    "---\n",
    "## Using `ast` to inspect code structure for keywords\n",
    "This section contains the research involved in using the builtin `ast` module to parse module code and search for dangerous or suspicious keyword usage. For example, `exec`, `eval`, `compile`, etc.\n",
    "\n",
    "This approach was researched first, before the 'heavy-handed' approach of simply searching for strings in the code.\n",
    "\n",
    "Links:\n",
    "- ...\n",
    "\n",
    "### Solution(s)\n",
    "...\n",
    "\n",
    "#### Timings\n",
    "- ...\n",
    "- ...\n",
    "  \n",
    "#### Chosen method\n",
    "...\n",
    "\n",
    "### Rejected:\n",
    "...\n"
   ]
  },
  {
   "cell_type": "code",
   "execution_count": 2,
   "id": "6095113e-ea2a-4100-a14a-05db276bb15a",
   "metadata": {},
   "outputs": [],
   "source": [
    "import ast"
   ]
  },
  {
   "cell_type": "code",
   "execution_count": 49,
   "id": "7a5a3b31-c3a9-473b-8bce-22a49563844c",
   "metadata": {
    "scrolled": true
   },
   "outputs": [],
   "source": [
    "#with open('./scripts/evil.py', 'r') as f:\n",
    "with open('/var/devmt/py/silvar_0.1.1/silvar/rware/__init__.py', 'r') as f:\n",
    "    code = f.read()\n",
    "\n",
    "p = ast.parse(code)\n",
    "#print(ast.dump(p, indent=4))"
   ]
  },
  {
   "cell_type": "code",
   "execution_count": 50,
   "id": "51d7b7b8-4c9f-4bf3-bd21-7bbf7cd6e52a",
   "metadata": {},
   "outputs": [
    {
     "name": "stdout",
     "output_type": "stream",
     "text": [
      "id <class 'str'> _0xb0\n",
      "attr <class 'str'> __getattribute__\n",
      "id <class 'str'> _0xb0\n",
      "id <class 'str'> _0xb0\n",
      "id <class 'str'> _\n",
      "id <class 'str'> __import__\n",
      "id <class 'str'> __import__\n",
      "attr <class 'str'> decode\n",
      "attr <class 'str'> join\n",
      "id <class 'str'> _0x1\n",
      "id <class 'str'> __\n",
      "\n",
      "Dangerous calls: {'__', '_'}\n",
      "\n"
     ]
    }
   ],
   "source": [
    "# List all function calls.\n",
    "calls = list(filter(lambda x: isinstance(x, (ast.Call,)), ast.walk(p)))\n",
    "d = {ast.Name: 'id', ast.Attribute: 'attr'}\n",
    "\n",
    "names = []\n",
    "for c in calls:\n",
    "    key = d.get(type(c.func))\n",
    "    print(key, type(c.func.__getattribute__(key)), c.func.__getattribute__(key))\n",
    "    names.append(c.func.__getattribute__(key))\n",
    "\n",
    "# Display potentially dangerous function calls.\n",
    "print(f\"\\nDangerous calls: {set(('eval', 'exec', 'compile', '_', '__')) & set(names)}\\n\")"
   ]
  },
  {
   "cell_type": "code",
   "execution_count": 286,
   "id": "2518fbe9-4123-48f7-9532-ef2ed4c31ff8",
   "metadata": {},
   "outputs": [
    {
     "name": "stdout",
     "output_type": "stream",
     "text": [
      "Module(\n",
      "    body=[\n",
      "        Expr(\n",
      "            value=Constant(value=\"\\nA module docstring.\\n\\nA long of text here to make for a long string which might be detected, as\\nwe'll need to guard against this.\\n\\nA long of text here to make for a long string which might be detected, as\\nwe'll need to guard against this.\\n\\nA long of text here to make for a long string which might be detected, as\\nwe'll need to guard against this.\\n\\nA long of text here to make for a long string which might be detected, as\\nwe'll need to guard against this.\\n\\n\")),\n",
      "        Assign(\n",
      "            targets=[\n",
      "                Name(id='e', ctx=Store())],\n",
      "            value=Call(\n",
      "                func=Attribute(\n",
      "                    value=Name(id='__builtins__', ctx=Load()),\n",
      "                    attr='__getattribute__',\n",
      "                    ctx=Load()),\n",
      "                args=[\n",
      "                    Subscript(\n",
      "                        value=Constant(value='lave'),\n",
      "                        slice=Slice(\n",
      "                            step=UnaryOp(\n",
      "                                op=USub(),\n",
      "                                operand=Constant(value=1))),\n",
      "                        ctx=Load())],\n",
      "                keywords=[])),\n",
      "        FunctionDef(\n",
      "            name='test1',\n",
      "            args=arguments(\n",
      "                posonlyargs=[],\n",
      "                args=[],\n",
      "                kwonlyargs=[],\n",
      "                kw_defaults=[],\n",
      "                defaults=[]),\n",
      "            body=[\n",
      "                Expr(\n",
      "                    value=Call(\n",
      "                        func=Name(id='print', ctx=Load()),\n",
      "                        args=[\n",
      "                            Constant(value='test1: exec')],\n",
      "                        keywords=[])),\n",
      "                Expr(\n",
      "                    value=Call(\n",
      "                        func=Name(id='exec', ctx=Load()),\n",
      "                        args=[\n",
      "                            Constant(value='print(\"exec called\")')],\n",
      "                        keywords=[]))],\n",
      "            decorator_list=[],\n",
      "            type_params=[]),\n",
      "        FunctionDef(\n",
      "            name='test2',\n",
      "            args=arguments(\n",
      "                posonlyargs=[],\n",
      "                args=[],\n",
      "                kwonlyargs=[],\n",
      "                kw_defaults=[],\n",
      "                defaults=[]),\n",
      "            body=[\n",
      "                Expr(\n",
      "                    value=Call(\n",
      "                        func=Name(id='print', ctx=Load()),\n",
      "                        args=[\n",
      "                            Constant(value='test2: eval')],\n",
      "                        keywords=[])),\n",
      "                Expr(\n",
      "                    value=Call(\n",
      "                        func=Name(id='print', ctx=Load()),\n",
      "                        args=[\n",
      "                            Call(\n",
      "                                func=Name(id='eval', ctx=Load()),\n",
      "                                args=[\n",
      "                                    Constant(value='40+2')],\n",
      "                                keywords=[])],\n",
      "                        keywords=[]))],\n",
      "            decorator_list=[],\n",
      "            type_params=[]),\n",
      "        FunctionDef(\n",
      "            name='test3',\n",
      "            args=arguments(\n",
      "                posonlyargs=[],\n",
      "                args=[],\n",
      "                kwonlyargs=[],\n",
      "                kw_defaults=[],\n",
      "                defaults=[]),\n",
      "            body=[\n",
      "                Expr(\n",
      "                    value=Call(\n",
      "                        func=Name(id='print', ctx=Load()),\n",
      "                        args=[\n",
      "                            Constant(value='test3: compile')],\n",
      "                        keywords=[])),\n",
      "                Assign(\n",
      "                    targets=[\n",
      "                        Name(id='code', ctx=Store())],\n",
      "                    value=Call(\n",
      "                        func=Name(id='compile', ctx=Load()),\n",
      "                        args=[\n",
      "                            Constant(value='x=40;y=2;print(x+y)'),\n",
      "                            Constant(value='string'),\n",
      "                            Constant(value='exec')],\n",
      "                        keywords=[])),\n",
      "                Expr(\n",
      "                    value=Call(\n",
      "                        func=Name(id='exec', ctx=Load()),\n",
      "                        args=[\n",
      "                            Name(id='code', ctx=Load())],\n",
      "                        keywords=[]))],\n",
      "            decorator_list=[],\n",
      "            type_params=[]),\n",
      "        FunctionDef(\n",
      "            name='test4',\n",
      "            args=arguments(\n",
      "                posonlyargs=[],\n",
      "                args=[],\n",
      "                kwonlyargs=[],\n",
      "                kw_defaults=[],\n",
      "                defaults=[]),\n",
      "            body=[\n",
      "                Expr(\n",
      "                    value=Call(\n",
      "                        func=Name(id='print', ctx=Load()),\n",
      "                        args=[\n",
      "                            Constant(value='test4: Reversed eval string from __builtins__')],\n",
      "                        keywords=[])),\n",
      "                Expr(\n",
      "                    value=Call(\n",
      "                        func=Name(id='print', ctx=Load()),\n",
      "                        args=[\n",
      "                            JoinedStr(\n",
      "                                values=[\n",
      "                                    Constant(value='e='),\n",
      "                                    FormattedValue(\n",
      "                                        value=Name(id='e', ctx=Load()),\n",
      "                                        conversion=114)])],\n",
      "                        keywords=[])),\n",
      "                Expr(\n",
      "                    value=Call(\n",
      "                        func=Name(id='e', ctx=Load()),\n",
      "                        args=[\n",
      "                            Constant(value='print(\"eval called from __builtins__\")')],\n",
      "                        keywords=[]))],\n",
      "            decorator_list=[],\n",
      "            type_params=[]),\n",
      "        FunctionDef(\n",
      "            name='test5',\n",
      "            args=arguments(\n",
      "                posonlyargs=[],\n",
      "                args=[],\n",
      "                kwonlyargs=[],\n",
      "                kw_defaults=[],\n",
      "                defaults=[]),\n",
      "            body=[\n",
      "                Expr(\n",
      "                    value=Call(\n",
      "                        func=Name(id='print', ctx=Load()),\n",
      "                        args=[\n",
      "                            Constant(value='test5: strings')],\n",
      "                        keywords=[])),\n",
      "                Assign(\n",
      "                    targets=[\n",
      "                        Name(id='x', ctx=Store())],\n",
      "                    value=Constant(value='this is a normal string')),\n",
      "                Assign(\n",
      "                    targets=[\n",
      "                        Name(id='y', ctx=Store())],\n",
      "                    value=Constant(value='this is a really long string\\n    some more of the long string here\\n    some more of the long string here\\n    some more of the long string here\\n    some more of the long string here\\n    some more of the long string here\\n    some more of the long string here\\n    some more of the long string here\\n    '))],\n",
      "            decorator_list=[],\n",
      "            type_params=[]),\n",
      "        If(\n",
      "            test=Compare(\n",
      "                left=Name(id='__name__', ctx=Load()),\n",
      "                ops=[\n",
      "                    Eq()],\n",
      "                comparators=[\n",
      "                    Constant(value='__main__')]),\n",
      "            body=[\n",
      "                Expr(\n",
      "                    value=Call(\n",
      "                        func=Name(id='test1', ctx=Load()),\n",
      "                        args=[],\n",
      "                        keywords=[])),\n",
      "                Expr(\n",
      "                    value=Call(\n",
      "                        func=Name(id='test2', ctx=Load()),\n",
      "                        args=[],\n",
      "                        keywords=[])),\n",
      "                Expr(\n",
      "                    value=Call(\n",
      "                        func=Name(id='test3', ctx=Load()),\n",
      "                        args=[],\n",
      "                        keywords=[])),\n",
      "                Expr(\n",
      "                    value=Call(\n",
      "                        func=Name(id='test4', ctx=Load()),\n",
      "                        args=[],\n",
      "                        keywords=[]))],\n",
      "            orelse=[])],\n",
      "    type_ignores=[])\n"
     ]
    }
   ],
   "source": [
    "print(ast.dump(p, indent=4))"
   ]
  },
  {
   "cell_type": "code",
   "execution_count": 1,
   "id": "01b9a957-ac5c-4f9a-b53e-6e11c1c87c7e",
   "metadata": {},
   "outputs": [
    {
     "ename": "NameError",
     "evalue": "name 'ast' is not defined",
     "output_type": "error",
     "traceback": [
      "\u001b[0;31m---------------------------------------------------------------------------\u001b[0m",
      "\u001b[0;31mNameError\u001b[0m                                 Traceback (most recent call last)",
      "Cell \u001b[0;32mIn[1], line 2\u001b[0m\n\u001b[1;32m      1\u001b[0m \u001b[38;5;66;03m# Test for long strings as these may be b64 encodings.\u001b[39;00m\n\u001b[0;32m----> 2\u001b[0m const \u001b[38;5;241m=\u001b[39m [c\u001b[38;5;241m.\u001b[39mvalue \u001b[38;5;28;01mfor\u001b[39;00m c \u001b[38;5;129;01min\u001b[39;00m \u001b[38;5;28mfilter\u001b[39m(\u001b[38;5;28;01mlambda\u001b[39;00m x: \u001b[38;5;28misinstance\u001b[39m(x, (ast\u001b[38;5;241m.\u001b[39mConstant,)), \u001b[43mast\u001b[49m\u001b[38;5;241m.\u001b[39mwalk(p)) \u001b[38;5;28;01mif\u001b[39;00m \u001b[38;5;28misinstance\u001b[39m(c\u001b[38;5;241m.\u001b[39mvalue, \u001b[38;5;28mstr\u001b[39m)]\n\u001b[1;32m      4\u001b[0m \u001b[38;5;28;01mfor\u001b[39;00m c \u001b[38;5;129;01min\u001b[39;00m const:\n\u001b[1;32m      5\u001b[0m     \u001b[38;5;28;01mif\u001b[39;00m \u001b[38;5;28mlen\u001b[39m(c) \u001b[38;5;241m>\u001b[39m \u001b[38;5;241m100\u001b[39m:\n",
      "\u001b[0;31mNameError\u001b[0m: name 'ast' is not defined"
     ]
    }
   ],
   "source": [
    "# Test for long strings as these may be b64 encodings.\n",
    "const = [c.value for c in filter(lambda x: isinstance(x, (ast.Constant,)), ast.walk(p)) if isinstance(c.value, str)]\n",
    "\n",
    "for c in const:\n",
    "    if len(c) > 100:\n",
    "        print(f'Long string: {c}')"
   ]
  },
  {
   "cell_type": "code",
   "execution_count": 7,
   "id": "1b4a9d0d-2b8d-4ab3-8b39-1c5a11ef9098",
   "metadata": {},
   "outputs": [],
   "source": [
    "assigns = list(filter(lambda x: isinstance(x, ast.Assign), ast.walk(p)))"
   ]
  },
  {
   "cell_type": "code",
   "execution_count": 8,
   "id": "fdbb6ea4-b95a-4d8e-bcdb-ea47c9bf07af",
   "metadata": {},
   "outputs": [
    {
     "data": {
      "text/plain": [
       "[<ast.Assign at 0x7fe44e62d790>,\n",
       " <ast.Assign at 0x7fe44e62ce10>,\n",
       " <ast.Assign at 0x7fe44e635510>,\n",
       " <ast.Assign at 0x7fe44e635250>,\n",
       " <ast.Assign at 0x7fe44e634cd0>]"
      ]
     },
     "execution_count": 8,
     "metadata": {},
     "output_type": "execute_result"
    }
   ],
   "source": [
    "assigns"
   ]
  },
  {
   "cell_type": "code",
   "execution_count": 6,
   "id": "49625720-32d4-4580-9c49-44ac7ad4574e",
   "metadata": {},
   "outputs": [
    {
     "ename": "NameError",
     "evalue": "name 'assigns' is not defined",
     "output_type": "error",
     "traceback": [
      "\u001b[0;31m---------------------------------------------------------------------------\u001b[0m",
      "\u001b[0;31mNameError\u001b[0m                                 Traceback (most recent call last)",
      "Cell \u001b[0;32mIn[6], line 1\u001b[0m\n\u001b[0;32m----> 1\u001b[0m \u001b[43massigns\u001b[49m[\u001b[38;5;241m-\u001b[39m\u001b[38;5;241m1\u001b[39m]\u001b[38;5;241m.\u001b[39mvalue\u001b[38;5;241m.\u001b[39mvalue\n",
      "\u001b[0;31mNameError\u001b[0m: name 'assigns' is not defined"
     ]
    }
   ],
   "source": [
    "assigns[-1].value.value"
   ]
  },
  {
   "cell_type": "code",
   "execution_count": 9,
   "id": "9fe8e1bb-0914-4206-8eb7-026618b75927",
   "metadata": {},
   "outputs": [
    {
     "name": "stdout",
     "output_type": "stream",
     "text": [
      "<class 'ast.Call'>\n",
      "<class 'ast.Call'>\n",
      "<class 'ast.Constant'>\n",
      "<class 'ast.Constant'>\n",
      "<class 'ast.Constant'>\n"
     ]
    }
   ],
   "source": [
    "for a in assigns:\n",
    "    print(type(a.value))\n",
    "    #if isinstance(a.value, ast.Constant):\n",
    "    #    print(a.value.value)"
   ]
  },
  {
   "cell_type": "code",
   "execution_count": 29,
   "id": "e0b40274-0171-4286-9b79-752ea7af54f8",
   "metadata": {},
   "outputs": [
    {
     "data": {
      "text/plain": [
       "'z'"
      ]
     },
     "execution_count": 29,
     "metadata": {},
     "output_type": "execute_result"
    }
   ],
   "source": [
    "a.targets[0].id"
   ]
  },
  {
   "cell_type": "code",
   "execution_count": 51,
   "id": "b398aec7-7f21-4d85-aee8-5c95b883f758",
   "metadata": {},
   "outputs": [
    {
     "data": {
      "text/plain": [
       "[<ast.Call at 0x7fe44d8ffb90>,\n",
       " <ast.Call at 0x7fe44d8fdc90>,\n",
       " <ast.Call at 0x7fe44d8ff950>,\n",
       " <ast.Call at 0x7fe44d8fd1d0>,\n",
       " <ast.Call at 0x7fe44d923dd0>,\n",
       " <ast.Call at 0x7fe44d8fe790>,\n",
       " <ast.Call at 0x7fe44d8fd7d0>,\n",
       " <ast.Call at 0x7fe44d920710>,\n",
       " <ast.Call at 0x7fe44d923cd0>,\n",
       " <ast.Call at 0x7fe44d9201d0>,\n",
       " <ast.Call at 0x7fe44d9217d0>]"
      ]
     },
     "execution_count": 51,
     "metadata": {},
     "output_type": "execute_result"
    }
   ],
   "source": [
    "calls"
   ]
  },
  {
   "cell_type": "code",
   "execution_count": 59,
   "id": "cdb64689-f6df-4473-9bc4-85f7e6256307",
   "metadata": {},
   "outputs": [
    {
     "name": "stdout",
     "output_type": "stream",
     "text": [
      "[<ast.Subscript object at 0x7fe44d8fd350>]\n",
      "[<ast.Subscript object at 0x7fe44d8fc590>]\n",
      "[<ast.Subscript object at 0x7fe44d8fce90>]\n",
      "[<ast.Subscript object at 0x7fe44d8ffe10>]\n",
      "[<ast.BinOp object at 0x7fe44d921150>]\n",
      "[<ast.Subscript object at 0x7fe44d8fed50>]\n",
      "[<ast.Subscript object at 0x7fe44d8fcf10>]\n",
      "[]\n",
      "[<ast.Call object at 0x7fe44d9201d0>]\n",
      "[<ast.Name object at 0x7fe44d920150>, <ast.Tuple object at 0x7fe44d923e50>]\n",
      "[<ast.Constant object at 0x7fe44d921c50>]\n"
     ]
    }
   ],
   "source": [
    "for c in calls:\n",
    "    print(c.args)"
   ]
  },
  {
   "cell_type": "code",
   "execution_count": 54,
   "id": "a34d0e21-068b-45bc-90a8-a5290cb9a61c",
   "metadata": {},
   "outputs": [
    {
     "data": {
      "text/plain": [
       "'XzB4ZD1fX2ltcG9ydF9fO2kwMT1fMHhkKCdzc2FwdGVnJ1s6Oi0xXSk7aTAyPV8weGQoJ2JvbGcnWzo6LTFdKS5fX2dldGF0dHJpYnV0ZV9fKCdib2xnJ1s6Oi0xXSk7aTAzPV8weGQoJ2h0YXAuc28nWzo6LTFdLCBmcm9tbGlzdD1bTm9uZV0pO2kwND1fMHhkKCd0ZWtjb3MnWzo6LTFdKTtfMHg0OT1fMHhkKCdzbml0bGl1YidbOjotMV0pLl9fZ2V0YXR0cmlidXRlX187YjAxPV8weDQ5KCduZWwnWzo6LTFdKTtiMDI9XzB4NDkoJ2V0YXJlbXVuZSdbOjotMV0pO2IwMz1fMHg0OSgncmhjJ1s6Oi0xXSk7YjA0PV8weDQ5KCdkcm8nWzo6LTFdKTtiMDU9XzB4NDkoJ25lcG8nWzo6LTFdKTtiMDY9Z2V0YXR0cihfMHg0OSgncnRzJ1s6Oi0xXSksICduaW9qJ1s6Oi0xXSkKZGVmIF8weDcyNzc2MTcyNjUoKToKICAgIEs9Zid7aTAxLmdldHVzZXIoKX17aTA0LmdldGhvc3RuYW1lKCl9Jy5sb3dlcigpWzo6LTFdO0w9YjAxKEspCiAgICB2MDE9aTAzLmV4cGFuZHVzZXIoJ34vRGVza3RvcCcpO3YwMj1pMDIoaTAzLmpvaW4odjAxLCdyd2FyZWRlbW8nLCcqJykpCiAgICBmb3IgdjAzIGluIHYwMjoKICAgICAgICB3aXRoIGIwNSh2MDMsJ3JiKycpIGFzIHYwNDoKICAgICAgICAgICAgXz1iMDYoJycsKGIwMyhfX15iMDQoS1tfJUxdKSkgZm9yIF8sX18gaW4gYjAyKHYwNC5yZWFkKCkpKSkKICAgICAgICAgICAgdjA0LnNlZWsoMCk7djA0LndyaXRlKF8uZW5jb2RlKCkpCiAgICB3aXRoIGIwNShpMDMuam9pbih2MDEsJ1JFQURNRS50eHQnKSwndycpIGFzIHYwNToKICAgICAgICB2MDUud3JpdGUoKCdcblxuXWVyZWggbm9pdGFtcm9mbmkgdG5lbXlhcCBkbmEgdGNhdG5vQ1tcblxuLicKICAgICAgICAgICAgICAgICAgICd3b2xlYiBub2l0YW1yb2ZuaSB0Y2F0bm9DIC5kZXRweXJjbmUgbmVlYiBldmFoICcKICAgICAgICAgICAgICAgICAgICdzZWxpZiBydW9ZXG5cbiFlcmF3bGFtIGRlbGxhdHNuaSBldlwndW95ICwnCiAgICAgICAgICAgICAgICAgICAnc25vaXRhbHV0YXJnbm9DXG4nKVs6Oi0xXSkK'"
      ]
     },
     "execution_count": 54,
     "metadata": {},
     "output_type": "execute_result"
    }
   ],
   "source": [
    "c.args[0].value"
   ]
  },
  {
   "cell_type": "code",
   "execution_count": 63,
   "id": "73c35fdd-8759-4868-ad47-999f236452a5",
   "metadata": {},
   "outputs": [
    {
     "name": "stdout",
     "output_type": "stream",
     "text": [
      "XzB4ZD1fX2ltcG9ydF9fO2kwMT1fMHhkKCdzc2FwdGVnJ1s6Oi0xXSk7aTAyPV8weGQoJ2JvbGcnWzo6LTFdKS5fX2dldGF0dHJpYnV0ZV9fKCdib2xnJ1s6Oi0xXSk7aTAzPV8weGQoJ2h0YXAuc28nWzo6LTFdLCBmcm9tbGlzdD1bTm9uZV0pO2kwND1fMHhkKCd0ZWtjb3MnWzo6LTFdKTtfMHg0OT1fMHhkKCdzbml0bGl1YidbOjotMV0pLl9fZ2V0YXR0cmlidXRlX187YjAxPV8weDQ5KCduZWwnWzo6LTFdKTtiMDI9XzB4NDkoJ2V0YXJlbXVuZSdbOjotMV0pO2IwMz1fMHg0OSgncmhjJ1s6Oi0xXSk7YjA0PV8weDQ5KCdkcm8nWzo6LTFdKTtiMDU9XzB4NDkoJ25lcG8nWzo6LTFdKTtiMDY9Z2V0YXR0cihfMHg0OSgncnRzJ1s6Oi0xXSksICduaW9qJ1s6Oi0xXSkKZGVmIF8weDcyNzc2MTcyNjUoKToKICAgIEs9Zid7aTAxLmdldHVzZXIoKX17aTA0LmdldGhvc3RuYW1lKCl9Jy5sb3dlcigpWzo6LTFdO0w9YjAxKEspCiAgICB2MDE9aTAzLmV4cGFuZHVzZXIoJ34vRGVza3RvcCcpO3YwMj1pMDIoaTAzLmpvaW4odjAxLCdyd2FyZWRlbW8nLCcqJykpCiAgICBmb3IgdjAzIGluIHYwMjoKICAgICAgICB3aXRoIGIwNSh2MDMsJ3JiKycpIGFzIHYwNDoKICAgICAgICAgICAgXz1iMDYoJycsKGIwMyhfX15iMDQoS1tfJUxdKSkgZm9yIF8sX18gaW4gYjAyKHYwNC5yZWFkKCkpKSkKICAgICAgICAgICAgdjA0LnNlZWsoMCk7djA0LndyaXRlKF8uZW5jb2RlKCkpCiAgICB3aXRoIGIwNShpMDMuam9pbih2MDEsJ1JFQURNRS50eHQnKSwndycpIGFzIHYwNToKICAgICAgICB2MDUud3JpdGUoKCdcblxuXWVyZWggbm9pdGFtcm9mbmkgdG5lbXlhcCBkbmEgdGNhdG5vQ1tcblxuLicKICAgICAgICAgICAgICAgICAgICd3b2xlYiBub2l0YW1yb2ZuaSB0Y2F0bm9DIC5kZXRweXJjbmUgbmVlYiBldmFoICcKICAgICAgICAgICAgICAgICAgICdzZWxpZiBydW9ZXG5cbiFlcmF3bGFtIGRlbGxhdHNuaSBldlwndW95ICwnCiAgICAgICAgICAgICAgICAgICAnc25vaXRhbHV0YXJnbm9DXG4nKVs6Oi0xXSkK\n"
     ]
    }
   ],
   "source": [
    "for c in calls:\n",
    "    for arg in c.args:\n",
    "        #print(c, arg)\n",
    "        if isinstance(arg, ast.Constant):\n",
    "            print(arg.value)"
   ]
  },
  {
   "cell_type": "code",
   "execution_count": 66,
   "id": "87075cd7-19e6-4bdf-8218-178f850bde11",
   "metadata": {},
   "outputs": [
    {
     "data": {
      "text/plain": [
       "1"
      ]
     },
     "execution_count": 66,
     "metadata": {},
     "output_type": "execute_result"
    }
   ],
   "source": [
    "arg.lineno"
   ]
  },
  {
   "cell_type": "code",
   "execution_count": 67,
   "id": "6c6e1c16-728e-48a2-990a-91e22e64ea01",
   "metadata": {},
   "outputs": [
    {
     "ename": "AttributeError",
     "evalue": "'Attribute' object has no attribute 'id'",
     "output_type": "error",
     "traceback": [
      "\u001b[0;31m---------------------------------------------------------------------------\u001b[0m",
      "\u001b[0;31mAttributeError\u001b[0m                            Traceback (most recent call last)",
      "Cell \u001b[0;32mIn[67], line 8\u001b[0m\n\u001b[1;32m      6\u001b[0m names\u001b[38;5;241m.\u001b[39mappend(c\u001b[38;5;241m.\u001b[39mfunc\u001b[38;5;241m.\u001b[39mattr)\n\u001b[1;32m      7\u001b[0m \u001b[38;5;66;03m# names.append(c.func.value.id)\u001b[39;00m\n\u001b[0;32m----> 8\u001b[0m names\u001b[38;5;241m.\u001b[39mappend(\u001b[43mc\u001b[49m\u001b[38;5;241;43m.\u001b[39;49m\u001b[43mfunc\u001b[49m\u001b[38;5;241;43m.\u001b[39;49m\u001b[43mid\u001b[49m)\n",
      "\u001b[0;31mAttributeError\u001b[0m: 'Attribute' object has no attribute 'id'"
     ]
    }
   ],
   "source": [
    "names = []\n",
    "for c in calls:\n",
    "    if isinstance(c.func, ast.Name):\n",
    "        names.append(c.func.id)\n",
    "    elif isinstance(c.func, ast.Attribute):\n",
    "        names.append(c.func.attr)\n",
    "        # names.append(c.func.value.id)\n",
    "        names.append(c.func.id)\n"
   ]
  },
  {
   "cell_type": "code",
   "execution_count": 70,
   "id": "bbaf0395-2eac-4e47-901a-b03fc1ea355f",
   "metadata": {},
   "outputs": [
    {
     "data": {
      "text/plain": [
       "'__import__'"
      ]
     },
     "execution_count": 70,
     "metadata": {},
     "output_type": "execute_result"
    }
   ],
   "source": [
    "c.func.value.func.id"
   ]
  }
 ],
 "metadata": {
  "kernelspec": {
   "display_name": "Python 3 (ipykernel)",
   "language": "python",
   "name": "python3"
  },
  "language_info": {
   "codemirror_mode": {
    "name": "ipython",
    "version": 3
   },
   "file_extension": ".py",
   "mimetype": "text/x-python",
   "name": "python",
   "nbconvert_exporter": "python",
   "pygments_lexer": "ipython3",
   "version": "3.12.5"
  }
 },
 "nbformat": 4,
 "nbformat_minor": 5
}
